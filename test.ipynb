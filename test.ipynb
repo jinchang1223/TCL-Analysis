{
 "cells": [
  {
   "cell_type": "code",
   "execution_count": 2,
   "metadata": {},
   "outputs": [
    {
     "name": "stdout",
     "output_type": "stream",
     "text": [
      "1943\n",
      "394\n"
     ]
    }
   ],
   "source": [
    "from pathlib import Path\n",
    "\n",
    "schema_files = list(Path(\"data/Github_easy\").glob(\"*.json\"))\n",
    "print(len(schema_files))\n",
    "\n",
    "trie_files = list(Path(\"tries/Github_easy\").glob(\"*.json\"))\n",
    "print(len(trie_files))\n",
    "\n"
   ]
  }
 ],
 "metadata": {
  "kernelspec": {
   "display_name": "decode",
   "language": "python",
   "name": "python3"
  },
  "language_info": {
   "codemirror_mode": {
    "name": "ipython",
    "version": 3
   },
   "file_extension": ".py",
   "mimetype": "text/x-python",
   "name": "python",
   "nbconvert_exporter": "python",
   "pygments_lexer": "ipython3",
   "version": "3.11.13"
  }
 },
 "nbformat": 4,
 "nbformat_minor": 2
}
